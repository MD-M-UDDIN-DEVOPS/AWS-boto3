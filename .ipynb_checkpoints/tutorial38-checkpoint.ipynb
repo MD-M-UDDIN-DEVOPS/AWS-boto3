{
 "cells": [
  {
   "cell_type": "markdown",
   "metadata": {},
   "source": [
    "# tutorial 38,how to create aws ebs volume using boto3 python"
   ]
  },
  {
   "cell_type": "code",
   "execution_count": 6,
   "metadata": {},
   "outputs": [],
   "source": [
    "import boto3\n",
    "ec2_client=boto3.client(\"ec2\")"
   ]
  },
  {
   "cell_type": "code",
   "execution_count": 12,
   "metadata": {},
   "outputs": [
    {
     "data": {
      "text/plain": [
       "{'AvailabilityZone': 'us-east-2c',\n",
       " 'CreateTime': datetime.datetime(2020, 11, 24, 19, 44, 6, tzinfo=tzutc()),\n",
       " 'Encrypted': True,\n",
       " 'Size': 8,\n",
       " 'SnapshotId': '',\n",
       " 'State': 'creating',\n",
       " 'VolumeId': 'vol-0c03389f5d6e51cc3',\n",
       " 'Iops': 100,\n",
       " 'Tags': [{'Key': 'Name', 'Value': 'Tutorial38-1'}],\n",
       " 'VolumeType': 'gp2',\n",
       " 'ResponseMetadata': {'RequestId': '0c478272-7309-47f7-9739-a4b97b0c4edc',\n",
       "  'HTTPStatusCode': 200,\n",
       "  'HTTPHeaders': {'x-amzn-requestid': '0c478272-7309-47f7-9739-a4b97b0c4edc',\n",
       "   'content-type': 'text/xml;charset=UTF-8',\n",
       "   'content-length': '643',\n",
       "   'date': 'Tue, 24 Nov 2020 19:44:06 GMT',\n",
       "   'server': 'AmazonEC2'},\n",
       "  'RetryAttempts': 0}}"
      ]
     },
     "execution_count": 12,
     "metadata": {},
     "output_type": "execute_result"
    }
   ],
   "source": [
    "ec2_client.create_volume(AvailabilityZone='us-east-2c',\n",
    "      Size=8,\n",
    "    Encrypted=True,               \n",
    "      VolumeType='gp2',\n",
    "      TagSpecifications=[\n",
    "          {\n",
    "              'ResourceType': 'volume',\n",
    "              'Tags': [\n",
    "                  {\n",
    "                      'Key': 'Name',\n",
    "                      'Value': 'Tutorial38-1'\n",
    "                  },\n",
    "              ]\n",
    "          },\n",
    "      ],\n",
    "     \n",
    "  )"
   ]
  },
  {
   "cell_type": "code",
   "execution_count": null,
   "metadata": {},
   "outputs": [],
   "source": []
  }
 ],
 "metadata": {
  "kernelspec": {
   "display_name": "Python 3",
   "language": "python",
   "name": "python3"
  },
  "language_info": {
   "codemirror_mode": {
    "name": "ipython",
    "version": 3
   },
   "file_extension": ".py",
   "mimetype": "text/x-python",
   "name": "python",
   "nbconvert_exporter": "python",
   "pygments_lexer": "ipython3",
   "version": "3.7.6"
  }
 },
 "nbformat": 4,
 "nbformat_minor": 4
}
