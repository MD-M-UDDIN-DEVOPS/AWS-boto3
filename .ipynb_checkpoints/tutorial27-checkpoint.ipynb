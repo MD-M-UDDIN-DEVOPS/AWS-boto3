{
 "cells": [
  {
   "cell_type": "markdown",
   "metadata": {},
   "source": [
    "# tutorial 27,how to create multiple ec2 instances"
   ]
  },
  {
   "cell_type": "code",
   "execution_count": 1,
   "metadata": {},
   "outputs": [],
   "source": [
    "import boto3\n",
    "ec2_resource=boto3.resource(\"ec2\")\n"
   ]
  },
  {
   "cell_type": "code",
   "execution_count": 4,
   "metadata": {},
   "outputs": [
    {
     "data": {
      "text/plain": [
       "[ec2.Instance(id='i-0c88ad84b371264a8'),\n",
       " ec2.Instance(id='i-05a42abc9a5ac37e8'),\n",
       " ec2.Instance(id='i-0555eca1e99164c22'),\n",
       " ec2.Instance(id='i-01a531866329aa20c')]"
      ]
     },
     "execution_count": 4,
     "metadata": {},
     "output_type": "execute_result"
    }
   ],
   "source": [
    "ec2_resource.create_instances(ImageId='ami-03657b56516ab7912',\n",
    "      InstanceType='t2.micro',\n",
    "    MaxCount=4,\n",
    "      MinCount=3)"
   ]
  },
  {
   "cell_type": "code",
   "execution_count": null,
   "metadata": {},
   "outputs": [],
   "source": []
  }
 ],
 "metadata": {
  "kernelspec": {
   "display_name": "Python 3",
   "language": "python",
   "name": "python3"
  },
  "language_info": {
   "codemirror_mode": {
    "name": "ipython",
    "version": 3
   },
   "file_extension": ".py",
   "mimetype": "text/x-python",
   "name": "python",
   "nbconvert_exporter": "python",
   "pygments_lexer": "ipython3",
   "version": "3.7.6"
  }
 },
 "nbformat": 4,
 "nbformat_minor": 4
}
